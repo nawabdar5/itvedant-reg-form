{
 "cells": [
  {
   "cell_type": "code",
   "execution_count": 1,
   "id": "9ab47e85",
   "metadata": {},
   "outputs": [
    {
     "ename": "NameError",
     "evalue": "name 'Tk' is not defined",
     "output_type": "error",
     "traceback": [
      "\u001b[1;31m---------------------------------------------------------------------------\u001b[0m",
      "\u001b[1;31mNameError\u001b[0m                                 Traceback (most recent call last)",
      "\u001b[1;32mc:\\Users\\abc\\Desktop\\python\\youtube downloader.ipynb Cell 1\u001b[0m line \u001b[0;36m3\n\u001b[0;32m      <a href='vscode-notebook-cell:/c%3A/Users/abc/Desktop/python/youtube%20downloader.ipynb#W0sZmlsZQ%3D%3D?line=0'>1</a>\u001b[0m \u001b[39m#from tkinter import *\u001b[39;00m\n\u001b[0;32m      <a href='vscode-notebook-cell:/c%3A/Users/abc/Desktop/python/youtube%20downloader.ipynb#W0sZmlsZQ%3D%3D?line=1'>2</a>\u001b[0m \u001b[39mfrom\u001b[39;00m \u001b[39mpytube\u001b[39;00m \u001b[39mimport\u001b[39;00m YouTube\n\u001b[1;32m----> <a href='vscode-notebook-cell:/c%3A/Users/abc/Desktop/python/youtube%20downloader.ipynb#W0sZmlsZQ%3D%3D?line=2'>3</a>\u001b[0m root \u001b[39m=\u001b[39m Tk()\n\u001b[0;32m      <a href='vscode-notebook-cell:/c%3A/Users/abc/Desktop/python/youtube%20downloader.ipynb#W0sZmlsZQ%3D%3D?line=3'>4</a>\u001b[0m root\u001b[39m.\u001b[39mgeometry(\u001b[39m'\u001b[39m\u001b[39m600x400\u001b[39m\u001b[39m'\u001b[39m)\n\u001b[0;32m      <a href='vscode-notebook-cell:/c%3A/Users/abc/Desktop/python/youtube%20downloader.ipynb#W0sZmlsZQ%3D%3D?line=4'>5</a>\u001b[0m root\u001b[39m.\u001b[39mresizable(\u001b[39m0\u001b[39m,\u001b[39m0\u001b[39m)\n",
      "\u001b[1;31mNameError\u001b[0m: name 'Tk' is not defined"
     ]
    }
   ],
   "source": [
    "#from tkinter import *\n",
    "from pytube import YouTube\n",
    "root = Tk()\n",
    "root.geometry('600x400')\n",
    "root.resizable(0,0)\n",
    "root.title(\"DataFlair-youtube video downloader\")\n",
    "Label(root,text = 'Nawab past the youtube link here  ', font ='arial 20 bold').pack()\n",
    "link = StringVar()\n",
    "\n",
    "Label(root, text = 'Paste Link Here:', font = 'arial 15 bold').place(x= 160 , y = 60)\n",
    "link_enter = Entry(root, width = 70,textvariable = link).place(x = 32, y = 90)\n",
    "def Downloader():     \n",
    "    url =YouTube(str(link.get()))\n",
    "    video = url.streams.first()\n",
    "    video.download()\n",
    "    Label(root, text = 'DOWNLOADED', font = 'arial 15').place(x= 180 , y = 210)  \n",
    "\n",
    "Button(root,text = 'DOWNLOAD', font = 'arial 15 bold' ,bg = 'pale violet red', padx = 2, command = Downloader).place(x=180 ,y = 150)\n",
    "\n",
    "root.mainloop()"
   ]
  },
  {
   "cell_type": "code",
   "execution_count": null,
   "id": "75664a9e",
   "metadata": {},
   "outputs": [],
   "source": [
    "from tkinter import *\n",
    "from pytube import YouTube\n",
    "\n",
    "root = Tk()\n",
    "root.geometry('500x300')\n",
    "root.resizable(0, 0)\n",
    "root.title(\"YouTube Video Downloader\")\n",
    "\n",
    "Label(root, text='YouTube Video Downloader', font='arial 20 bold').pack()\n",
    "link = StringVar()\n",
    "\n",
    "Label(root, text='Paste Link Here:', font='arial 15 bold').place(x=160, y=60)\n",
    "link_enter = Entry(root, width=70, textvariable=link)\n",
    "link_enter.place(x=32, y=90)\n",
    "\n",
    "def Downloader():\n",
    "    url = YouTube(str(link.get()))\n",
    "    \n",
    "    # Find the stream with 720p resolution (if available)\n",
    "    video = url.streams.filter(res='720p').first()\n",
    "    \n",
    "    if video:\n",
    "        video.download()\n",
    "        Label(root, text='DOWNLOADED', font='arial 15').place(x=180, y=210)\n",
    "    else:\n",
    "        Label(root, text='720p video not available', font='arial 15').place(x=180, y=210)\n",
    "\n",
    "Button(root, text='DOWNLOAD', font='arial 15 bold', bg='pale violet red', padx=2, command=Downloader).place(x=180, y=150)\n",
    "\n",
    "root.mainloop()\n"
   ]
  },
  {
   "cell_type": "code",
   "execution_count": null,
   "id": "000ac636",
   "metadata": {},
   "outputs": [],
   "source": []
  },
  {
   "cell_type": "code",
   "execution_count": null,
   "id": "8f202ee6",
   "metadata": {},
   "outputs": [],
   "source": []
  }
 ],
 "metadata": {
  "kernelspec": {
   "display_name": "Python 3 (ipykernel)",
   "language": "python",
   "name": "python3"
  },
  "language_info": {
   "codemirror_mode": {
    "name": "ipython",
    "version": 3
   },
   "file_extension": ".py",
   "mimetype": "text/x-python",
   "name": "python",
   "nbconvert_exporter": "python",
   "pygments_lexer": "ipython3",
   "version": "3.11.3"
  }
 },
 "nbformat": 4,
 "nbformat_minor": 5
}
